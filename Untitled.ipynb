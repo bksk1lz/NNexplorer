{
 "cells": [
  {
   "cell_type": "code",
   "execution_count": 2,
   "metadata": {
    "collapsed": true
   },
   "outputs": [],
   "source": [
    "import numpy as np\n",
    "import pandas as pd\n",
    "from bokeh.layouts import widgetbox"
   ]
  },
  {
   "cell_type": "code",
   "execution_count": 2,
   "metadata": {
    "collapsed": true
   },
   "outputs": [],
   "source": [
    "from bokeh.layouts import layout"
   ]
  },
  {
   "cell_type": "code",
   "execution_count": 3,
   "metadata": {
    "collapsed": false
   },
   "outputs": [],
   "source": [
    "df = pd.read_csv(\"data/r1c1_07.xls\", delim_whitespace = True)"
   ]
  },
  {
   "cell_type": "code",
   "execution_count": 6,
   "metadata": {
    "collapsed": false
   },
   "outputs": [
    {
     "data": {
      "text/html": [
       "<div>\n",
       "<table border=\"1\" class=\"dataframe\">\n",
       "  <thead>\n",
       "    <tr style=\"text-align: right;\">\n",
       "      <th></th>\n",
       "      <th>X</th>\n",
       "      <th>Y</th>\n",
       "      <th>Area</th>\n",
       "      <th>Orientation</th>\n",
       "      <th>Coherency</th>\n",
       "    </tr>\n",
       "  </thead>\n",
       "  <tbody>\n",
       "    <tr>\n",
       "      <th>0</th>\n",
       "      <td>67.40588</td>\n",
       "      <td>2.00632</td>\n",
       "      <td>8.018178</td>\n",
       "      <td>-8.308</td>\n",
       "      <td>0.286</td>\n",
       "    </tr>\n",
       "    <tr>\n",
       "      <th>1</th>\n",
       "      <td>18.25104</td>\n",
       "      <td>4.14208</td>\n",
       "      <td>13.572365</td>\n",
       "      <td>-18.698</td>\n",
       "      <td>0.312</td>\n",
       "    </tr>\n",
       "    <tr>\n",
       "      <th>2</th>\n",
       "      <td>95.23548</td>\n",
       "      <td>4.72456</td>\n",
       "      <td>11.016224</td>\n",
       "      <td>-10.526</td>\n",
       "      <td>0.302</td>\n",
       "    </tr>\n",
       "    <tr>\n",
       "      <th>3</th>\n",
       "      <td>5.24232</td>\n",
       "      <td>9.99924</td>\n",
       "      <td>53.974263</td>\n",
       "      <td>-16.139</td>\n",
       "      <td>0.301</td>\n",
       "    </tr>\n",
       "    <tr>\n",
       "      <th>4</th>\n",
       "      <td>25.04664</td>\n",
       "      <td>11.19656</td>\n",
       "      <td>25.748853</td>\n",
       "      <td>-6.452</td>\n",
       "      <td>0.269</td>\n",
       "    </tr>\n",
       "  </tbody>\n",
       "</table>\n",
       "</div>"
      ],
      "text/plain": [
       "          X         Y       Area  Orientation  Coherency\n",
       "0  67.40588   2.00632   8.018178       -8.308      0.286\n",
       "1  18.25104   4.14208  13.572365      -18.698      0.312\n",
       "2  95.23548   4.72456  11.016224      -10.526      0.302\n",
       "3   5.24232   9.99924  53.974263      -16.139      0.301\n",
       "4  25.04664  11.19656  25.748853       -6.452      0.269"
      ]
     },
     "execution_count": 6,
     "metadata": {},
     "output_type": "execute_result"
    }
   ],
   "source": [
    "df.Area = df.Area * (0.03236 ** 2)\n",
    "df.head()"
   ]
  }
 ],
 "metadata": {
  "kernelspec": {
   "display_name": "Python 3",
   "language": "python",
   "name": "python3"
  },
  "language_info": {
   "codemirror_mode": {
    "name": "ipython",
    "version": 3
   },
   "file_extension": ".py",
   "mimetype": "text/x-python",
   "name": "python",
   "nbconvert_exporter": "python",
   "pygments_lexer": "ipython3",
   "version": "3.5.2"
  }
 },
 "nbformat": 4,
 "nbformat_minor": 0
}
